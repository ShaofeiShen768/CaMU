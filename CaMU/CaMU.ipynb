{
 "cells": [
  {
   "cell_type": "code",
   "execution_count": 2,
   "metadata": {},
   "outputs": [],
   "source": [
    "import torch\n",
    "import torch.nn.functional as F\n",
    "import random\n",
    "import os\n",
    "import numpy as np\n",
    "import torch.nn as nn\n",
    "import torchvision.transforms as T\n",
    "import dataset\n",
    "import Model\n",
    "import train\n",
    "import config as cf\n",
    "import prepare\n",
    "import remove\n",
    "import utils\n",
    "import copy\n",
    "import time"
   ]
  },
  {
   "cell_type": "code",
   "execution_count": 3,
   "metadata": {},
   "outputs": [],
   "source": [
    "utils.random_setting(0)"
   ]
  },
  {
   "cell_type": "code",
   "execution_count": 4,
   "metadata": {},
   "outputs": [],
   "source": [
    "label = 0\n",
    "UNLEARN_LABEL = [label]\n",
    "OUTPUT_LABEL = [i for i in range(cf.CLASS_COUNT) if i != label]\n",
    "UNLEARNED_DISTRIBUTION = [0 for i in range(cf.CLASS_COUNT)] \n",
    "UNLEARNED_DISTRIBUTION[label] = 1"
   ]
  },
  {
   "cell_type": "code",
   "execution_count": 5,
   "metadata": {},
   "outputs": [
    {
     "name": "stdout",
     "output_type": "stream",
     "text": [
      "Train data length:  60000\n",
      "Test data length:  10000\n",
      "[5923. 6742. 5958. 6131. 5842. 5421. 5918. 6265. 5851. 5949.]\n",
      "[5923.    0.    0.    0.    0.    0.    0.    0.    0.    0.]\n",
      "{0, 1, 2, 3, 4, 5, 6, 7, 8, 9}\n"
     ]
    }
   ],
   "source": [
    "data = dataset.data_construction(cf.DATASET)        \n",
    "loaders = data.construct_data(cf.DATATYPE, UNLEARNED_DISTRIBUTION)"
   ]
  },
  {
   "cell_type": "code",
   "execution_count": 7,
   "metadata": {},
   "outputs": [],
   "source": [
    "if cf.DATASET == 'Digit' or cf.DATASET == 'Fashion':\n",
    "    trained_model = Model.CNN()\n",
    "elif cf.DATASET == 'CIFAR10' or cf.DATASET == 'CIFAR100':\n",
    "    trained_model = Model.ResNet()"
   ]
  },
  {
   "cell_type": "code",
   "execution_count": 8,
   "metadata": {},
   "outputs": [],
   "source": [
    "train.train(trained_model, loaders['train'])\n",
    "            \n",
    "new_model = copy.deepcopy(trained_model)"
   ]
  },
  {
   "cell_type": "code",
   "execution_count": 10,
   "metadata": {},
   "outputs": [],
   "source": [
    "time_0 = time.time()\n",
    "close_dataset = prepare.counterfactual_generation(trained_model, loaders['unlearn'], loaders['sample'])\n",
    "close_loader = torch.utils.data.DataLoader(close_dataset, batch_size=32, shuffle=True, num_workers=3)"
   ]
  },
  {
   "cell_type": "code",
   "execution_count": 11,
   "metadata": {},
   "outputs": [],
   "source": [
    "remove.causal_effect_removel(trained_model, new_model, close_loader, loaders['sample'])\n",
    "\n",
    "time_taken = time.time() - time_0"
   ]
  },
  {
   "cell_type": "code",
   "execution_count": 12,
   "metadata": {},
   "outputs": [
    {
     "name": "stdout",
     "output_type": "stream",
     "text": [
      "4000\n",
      "4000\n",
      "MIA Attacker accuracy = 0.9157\n",
      "MIA Attacker accuracy = 0.2319\n",
      "The accuracy of the all classes is:  99.81138006916063\n",
      "The accuracy of the all classes is:  0.0\n",
      "The accuracy of the all classes is:  89.54\n",
      "The accuracy of the selected classes  [1, 2, 3, 4, 5, 6, 7, 8, 9] is:  99.26829268292683\n",
      "The accuracy of the selected classes  [0] is:  0.0\n"
     ]
    }
   ],
   "source": [
    "\n",
    "add_model = copy.deepcopy(new_model)\n",
    "\n",
    "attack_model = train.train_attack_model(add_model, loaders['sample'], loaders['test'])    \n",
    "acc_re= train.attack(add_model, attack_model, loaders['unlearn'], loaders['test'])\n",
    "acc_re_tr = train.test(add_model, loaders['source'])\n",
    "acc_fr_tr = train.test(add_model, loaders['unlearn'])\n",
    "acc_ts = train.test(add_model, loaders['test'])\n",
    "acc_re_ts = train.test(add_model, loaders['test'], OUTPUT_LABEL)\n",
    "acc_fr_ts = train.test(add_model, loaders['test'], UNLEARN_LABEL)"
   ]
  },
  {
   "cell_type": "code",
   "execution_count": 13,
   "metadata": {},
   "outputs": [
    {
     "name": "stdout",
     "output_type": "stream",
     "text": [
      "Unlearn remaining training acc is  99.81138006916063\n",
      "Unlearn forgetting training acc is  0.0\n",
      "Unlearn test acc is  89.54\n",
      "Unlearn remaining test acc is  99.26829268292683\n",
      "Unlearn forgetting test acc is  0.0\n",
      "Attack Success Rate is  0.23191578947368421\n",
      "Algorithm Time is  9.998535633087158\n"
     ]
    }
   ],
   "source": [
    "print('Unlearn remaining training acc is ', acc_re_tr)\n",
    "print('Unlearn forgetting training acc is ', acc_fr_tr)\n",
    "print('Unlearn test acc is ', acc_ts)\n",
    "print('Unlearn remaining test acc is ', acc_re_ts)\n",
    "print('Unlearn forgetting test acc is ', acc_fr_ts)\n",
    "print('Attack Success Rate is ', acc_re)\n",
    "print('Algorithm Time is ', time_taken)"
   ]
  }
 ],
 "metadata": {
  "kernelspec": {
   "display_name": "vunlearning",
   "language": "python",
   "name": "python3"
  },
  "language_info": {
   "codemirror_mode": {
    "name": "ipython",
    "version": 3
   },
   "file_extension": ".py",
   "mimetype": "text/x-python",
   "name": "python",
   "nbconvert_exporter": "python",
   "pygments_lexer": "ipython3",
   "version": "3.9.16"
  }
 },
 "nbformat": 4,
 "nbformat_minor": 2
}
